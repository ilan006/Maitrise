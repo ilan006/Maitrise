{
 "cells": [
  {
   "cell_type": "code",
   "execution_count": null,
   "metadata": {},
   "outputs": [],
   "source": [
    "# import sys\n",
    "# print(sys.executable)\n",
    "# print(sys.version)\n",
    "# print(sys.version_info)\n",
    "import csv\n",
    "import matplotlib.pyplot as plt\n",
    "import seaborn as sns\n",
    "import pandas as pd\n",
    "sns.set(style=\"darkgrid\")"
   ]
  },
  {
   "cell_type": "code",
   "execution_count": null,
   "metadata": {},
   "outputs": [],
   "source": [
    "csvfile = pd.read_csv('signal_avant.csv')\n",
    "csvfile.head()\n",
    "g = sns.factorplot(x='nm_words', y='cosine_avant',legend=False,  data=csvfile, palette='Set1', kind='bar', aspect = 2.2)\n",
    "# # g.set_ylabels(text=\"compte\")\n",
    "# plt.title(\"position relative de la phrase à trouver dans le paragraphe (TRAIN)\" , size = 18)\n",
    "# g.set_xlabels(text=\"Position relative (en phrase)\")"
   ]
  },
  {
   "cell_type": "code",
   "execution_count": null,
   "metadata": {
    "scrolled": true
   },
   "outputs": [],
   "source": [
    "csvfile = pd.read_csv('signal.csv')\n",
    "csvfile.head()\n",
    "g = sns.factorplot(x='nm_words', y='cosine',hue=\"class\",legend=False,  data=csvfile, palette='tab20', kind='point', aspect = 2.2)\n",
    "# # g.set_ylabels(text=\"compte\")\n",
    "plt.title(\"cosine signal en fonction du span selectionné \" , size = 18)\n",
    "# g.set_xlabels(text=\"Position relative (en phrase)\")"
   ]
  },
  {
   "cell_type": "code",
   "execution_count": null,
   "metadata": {},
   "outputs": [],
   "source": [
    "csvfile = pd.read_csv('signal_un_mot.csv')\n",
    "csvfile.head()\n",
    "g = sns.factorplot(x='word', y='cosine',hue=\"class\",legend=False,  data=csvfile, palette='tab20', kind='point', aspect = 2.2)\n",
    "# # g.set_ylabels(text=\"compte\")\n",
    "plt.title(\"cosine signal pour chaque mot [-10;10] (moyenne sur l'ensemble)\" , size = 18)\n",
    "# g.set_xlabels(text=\"Position relative (en phrase)\")"
   ]
  },
  {
   "cell_type": "code",
   "execution_count": null,
   "metadata": {},
   "outputs": [],
   "source": [
    "csvfile = pd.read_csv('signal_non_moyene_un_mot.csv')\n",
    "csvfile.head()\n",
    "g = sns.factorplot(x='word', y='cosine',hue=\"class\",legend=False,  data=csvfile, palette='tab20', kind='point', aspect = 2.2)\n",
    "# # g.set_ylabels(text=\"compte\")\n",
    "plt.title(\"cosine signal pour chaque mot [-10;10] pour 5 spans-reponse aleatoire \" , size = 18)\n",
    "# g.set_xlabels(text=\"Position relative (en phrase)\")"
   ]
  },
  {
   "cell_type": "code",
   "execution_count": null,
   "metadata": {},
   "outputs": [],
   "source": [
    "csvfile = pd.read_csv('signal_deux_mot.csv')\n",
    "csvfile.head()\n",
    "g = sns.factorplot(x='word', y='cosine',hue=\"class\",legend=False,  data=csvfile, palette='tab20', kind='point', aspect = 2.2)\n",
    "# # g.set_ylabels(text=\"compte\")\n",
    "plt.title(\"cosine signal doublet de mots entre [-10;10]\" , size = 18)\n",
    "# g.set_xlabels(text=\"Position relative (en phrase)\")"
   ]
  },
  {
   "cell_type": "code",
   "execution_count": null,
   "metadata": {},
   "outputs": [],
   "source": [
    "csvfile = pd.read_csv('signal_trois_mot.csv')\n",
    "csvfile.head()\n",
    "g = sns.factorplot(x='word', y='cosine',hue=\"class\",legend=False,  data=csvfile, palette='tab20', kind='point', aspect = 2.2)\n",
    "# # g.set_ylabels(text=\"compte\")\n",
    "plt.title(\"cosine signal pour triplet de mot entre [-12;12] \" , size = 18)\n",
    "# g.set_xlabels(text=\"Position relative (en phrase)\")"
   ]
  },
  {
   "cell_type": "code",
   "execution_count": null,
   "metadata": {},
   "outputs": [],
   "source": []
  },
  {
   "cell_type": "code",
   "execution_count": null,
   "metadata": {},
   "outputs": [],
   "source": []
  },
  {
   "cell_type": "code",
   "execution_count": null,
   "metadata": {},
   "outputs": [],
   "source": []
  }
 ],
 "metadata": {
  "kernelspec": {
   "display_name": "Python 3",
   "language": "python",
   "name": "python3"
<<<<<<< HEAD
  },
  "language_info": {
   "codemirror_mode": {
    "name": "ipython",
    "version": 3
   },
   "file_extension": ".py",
   "mimetype": "text/x-python",
   "name": "python",
   "nbconvert_exporter": "python",
   "pygments_lexer": "ipython3",
   "version": "3.4.8"
=======
>>>>>>> fab8cdf9d18184cd48a7becb06bd5770457ab3fe
  }
 },
 "nbformat": 4,
 "nbformat_minor": 2
}
