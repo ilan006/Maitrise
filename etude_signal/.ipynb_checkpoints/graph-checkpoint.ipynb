{
 "cells": [
  {
   "cell_type": "code",
   "execution_count": null,
   "metadata": {},
   "outputs": [],
   "source": [
    "import csv\n",
    "import matplotlib.pyplot as plt\n",
    "import seaborn as sns\n",
    "import pandas as pd\n",
    "sns.set(style=\"darkgrid\")"
   ]
  },
  {
   "cell_type": "code",
   "execution_count": null,
   "metadata": {},
   "outputs": [],
   "source": [
    "csvfile = pd.read_csv('../extrac_sentence/data_perso/freq_position_train.csv')\n",
    "csvfile.head()\n",
    "g = sns.factorplot(x='position relative', y='comptage relatif',hue = \"class\",legend=False,  data=csvfile, palette='Set1', kind='bar', aspect = 2.2)\n",
    "# g.set_ylabels(text=\"compte\")\n",
    "plt.title(\"position relative de la phrase à trouver dans le paragraphe (TRAIN)\" , size = 18)\n",
    "g.set_xlabels(text=\"Position relative (en phrase)\")"
   ]
  }
 ],
 "metadata": {
  "kernelspec": {
   "display_name": "Python 3",
   "language": "python",
   "name": "python3"
  }
 },
 "nbformat": 4,
 "nbformat_minor": 2
}
